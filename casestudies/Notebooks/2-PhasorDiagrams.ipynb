{
 "cells": [
  {
   "cell_type": "markdown",
   "metadata": {},
   "source": [
    "# NOTEBOOK 2 - Phasor diagrams\n",
    "\n",
    "#### A quick introduction to the phasor diagrams in the dq frame. \n",
    "Note: Based on Task 1A from the 2017 exam\n",
    "\n",
    "Still a work in progress, if there is anything missing or you have some general feedback please contact Sjur Føyen at foyen.sjur@ntnu.no \n",
    "\n",
    "\n",
    "Code implemented by; Varg Førland. Date; 29.01.2025\n",
    "\n",
    "Last update; 10.02.2025\n",
    "\n",
    "GitHub Copilot used for assistance in coding."
   ]
  },
  {
   "cell_type": "code",
   "execution_count": 4,
   "metadata": {},
   "outputs": [],
   "source": [
    "# If you get a package error, uncomment and run the following lines:\n",
    "# %pip install IPython.display\n",
    "# %pip install numpy\n",
    "# %pip install matplotlib\n",
    "# %pip install ipywidgets\n",
    "\n",
    "# IMPORTS. RUN FIRST!\n",
    "import numpy as np\n",
    "import matplotlib.pyplot as plt\n",
    "# from ipywidgets import interact, IntSlider, FloatSlider\n",
    "from notebook_utils import plot_phasor_diagram, update_phasor_diagram\n",
    "from matplotlib.patches import Arc\n",
    "#more"
   ]
  },
  {
   "cell_type": "markdown",
   "metadata": {},
   "source": [
    "## System\n",
    "A power plant is connected to an infinite grid as shown in the figure below and delivers 80 MW active power and 20 Mvar reactive power to grid. The power plant has a salient-pole generator, and the relevant parameters for the generator, transformer and transmission line are given in the table below:\n",
    "\n",
    "<div style=\"text-align: center;\">\n",
    "    <img src=\"Figures/2-PhasorDiagrams/System_Notebooks.png\" alt=\"2 - Power Sys Model.\" style=\"max-width: 65%;\">\n",
    "    <figcaption> Power system model. </figcaption>\n",
    "</div>\n",
    "\n",
    "\n",
    "| **Category**               | **Parameter** | **Value**  | **Comment**                                                                 |\n",
    "|----------------------------|---------------|------------|-----------------------------------------------------------------------------|\n",
    "|                            |     | |                                                                             |\n",
    "| **Generator Parameters**                          |\n",
    "|   | $H$           | 5.0 seconds |                                                                             |\n",
    "|                            | $D$           | 10.0 p.u.  | All per unit values are referred to $V_{\\text{base}} = 132 \\, \\text{kV}$ and $S_{\\text{base}} = 100 \\, \\text{MW}$ |\n",
    "|                            | $X_q$         | 0.8 p.u.   |                                                                             |\n",
    "|                            | $X_d$         | 1.0 p.u.   |                                                                             |\n",
    "|                            | $X_d'$        | 0.3 p.u.   |                                                                             |\n",
    "|                            | $T_{d0}'$     | 7.0 seconds |                                                                             |\n",
    "|                            |  \n",
    "|   **Transformer**                                                             |\n",
    "|  | $X_t$         | 0.1 p.u.   | Nominal voltages: 17/132 kV, referred to $S_{\\text{base}} = 100 \\, \\text{MW}$ |\n",
    "|                            |  \n",
    "|  **Transmission Line**                               |     | |                                                                             |\n",
    "|  | $X_l$         | 0.1 p.u.   | Referred to $V_{\\text{base}} = 132 \\, \\text{kV}$ and $S_{\\text{base}} = 100 \\, \\text{MW}$ |\n",
    "|                            |     | |                                                                             |\n",
    "\n",
    "\n",
    "\n"
   ]
  },
  {
   "cell_type": "code",
   "execution_count": 5,
   "metadata": {},
   "outputs": [],
   "source": [
    "# System data Definitions:\n",
    "# Base data\n",
    "Sb = 100 # MVA\n",
    "Vb_lv = 10 # kV\n",
    "Vb_hv = 132 # kV\n",
    "# pu conversion\n",
    "Vs_kV = 132 + 0j # kV < deg\n",
    "Vs = Vs_kV / Vb_hv # pu\n",
    "P_MW = 80 # MW delivered power to network \n",
    "Q_MVAR = 20 #MVAR delivered power to network\n",
    "P = P_MW / Sb # pu\n",
    "Q = Q_MVAR / Sb # pu\n",
    "\n",
    "#Transformer data\n",
    "Xt =  0.1 # pu\n",
    "\n",
    "#Generator data\n",
    "H = 10 # s\n",
    "D = 10 # pu\n",
    "Xq = 0.8 # pu\n",
    "Xd = 1.0 # pu\n",
    "Xd_t = 0.3 # pu (_t means transient) (_st means subtransient)\n",
    "Td0_t = 7.0 # s\n",
    "\n",
    "#Line data\n",
    "Xl = 0.1 # pu"
   ]
  },
  {
   "cell_type": "markdown",
   "metadata": {},
   "source": [
    "## Phasor calculations\n",
    "\n",
    "To calculate the phasor, we first need to know the relevant values. We want to find and draw\n",
    "- $V_g$, voltage at the generator terminal\n",
    "- $V_t$, voltage at the HV side of the transformer\n",
    "- $E_q$, steady-state emf\n",
    "- $E_q'$, transient emf\n",
    "- $I$ and the dq components $I_q$ and $I_d$\n",
    "\n",
    "#### Equivalent reactances\n",
    "First we find the equivalent reactances in the dq direction. We can find these if we draw the reactances in a circuit diargam. The reactances are in series and can be defined as\n",
    "- $x_q = X_q + X_t + X_l$\n",
    "- $x_d = X_d + X_t + X_l$\n",
    "- $x_d'= X_d'+ X_t + X_l$"
   ]
  },
  {
   "cell_type": "code",
   "execution_count": 6,
   "metadata": {},
   "outputs": [
    {
     "name": "stdout",
     "output_type": "stream",
     "text": [
      "xq =  1.0\n",
      "xd =  1.2000000000000002\n",
      "xd_t =  0.5\n"
     ]
    }
   ],
   "source": [
    "xq = Xq + Xt + Xl\n",
    "xd = Xd + Xt + Xl\n",
    "xd_t = Xd_t + Xt + Xl\n",
    "\n",
    "print('xq = ', xq)\n",
    "print('xd = ', xd)\n",
    "print('xd_t = ', xd_t)"
   ]
  },
  {
   "cell_type": "markdown",
   "metadata": {},
   "source": [
    "### Current - $I$\n",
    "As we have the delivered power, and voltage at the infinte bus, we can easily calculate the current as \n",
    "- $S = VI^*$, which gives us $I = \\frac{P-jQ}{V_s}$\n",
    "\n",
    "This calculation gives is the current in the $ab$-frame, so that\n",
    "- $I = I_a + j I_b$ = $|I| \\angle \\phi$ \n",
    "\n",
    "To express $I$ by dq-components, we first need to find the emf to which we refer the dq-frame.\n"
   ]
  },
  {
   "cell_type": "code",
   "execution_count": 7,
   "metadata": {},
   "outputs": [
    {
     "data": {
      "text/latex": [
       "$\\displaystyle I = 0.8000 -0.2000 j$"
      ],
      "text/plain": [
       "<IPython.core.display.Math object>"
      ]
     },
     "metadata": {},
     "output_type": "display_data"
    },
    {
     "data": {
      "text/latex": [
       "$\\displaystyle I = 0.8246 \\angle -14.04^\\circ$"
      ],
      "text/plain": [
       "<IPython.core.display.Math object>"
      ]
     },
     "metadata": {},
     "output_type": "display_data"
    },
    {
     "data": {
      "text/latex": [
       "$\\displaystyle \\phi = 14.04^\\circ$"
      ],
      "text/plain": [
       "<IPython.core.display.Math object>"
      ]
     },
     "metadata": {},
     "output_type": "display_data"
    }
   ],
   "source": [
    "from IPython.display import display, Math\n",
    "\n",
    "I = (P - 1j*Q) / Vs\n",
    "phi = np.abs(np.angle(I))\n",
    "\n",
    "display(Math(r'I = {0:.4f} {1:.4f} j'.format(np.real(I), np.imag(I))))\n",
    "display(Math(r'I = {0:.4f} \\angle {1:.2f}^\\circ'.format(abs(I), -phi*180/np.pi)))\n",
    "display(Math(r'\\phi = {0:.2f}^\\circ'.format(phi*180/np.pi)))"
   ]
  },
  {
   "cell_type": "markdown",
   "metadata": {},
   "source": [
    "### Voltages - $V_t$ and $V_g$ \n",
    "To calulate the bus voltages we simply consider the voltage drop across the line and transformer. We then simply express them as\n",
    "- $V_t = V_s + I \\cdot Z_{line} = V_s + I \\cdot j X_{l}$\n",
    "- $V_g = V_s + I \\cdot (Z_{line} + Z_{transformer}) = V_s + I \\cdot j (X_{l} + X_{t})$\n"
   ]
  },
  {
   "cell_type": "code",
   "execution_count": 8,
   "metadata": {},
   "outputs": [
    {
     "data": {
      "text/latex": [
       "$\\displaystyle V_t = 1.0231 \\angle 4.48^\\circ$"
      ],
      "text/plain": [
       "<IPython.core.display.Math object>"
      ]
     },
     "metadata": {},
     "output_type": "display_data"
    },
    {
     "data": {
      "text/latex": [
       "$\\displaystyle V_g = 1.0522 \\angle 8.75^\\circ$"
      ],
      "text/plain": [
       "<IPython.core.display.Math object>"
      ]
     },
     "metadata": {},
     "output_type": "display_data"
    }
   ],
   "source": [
    "Vt = Vs + I * 1j*(Xl)\n",
    "Vg = Vs + I * 1j*(Xt + Xl)\n",
    "\n",
    "display(Math(r'V_t = {0:.4f} \\angle {1:.2f}^\\circ'.format(abs(Vt), np.angle(Vt)*180/np.pi)))\n",
    "display(Math(r'V_g = {0:.4f} \\angle {1:.2f}^\\circ'.format(abs(Vg), np.angle(Vg)*180/np.pi)))"
   ]
  },
  {
   "cell_type": "markdown",
   "metadata": {},
   "source": [
    "### Steady state and transient power angle - $\\delta / \\delta'$\n",
    "To find the power angle we use the vector $E_Q$, which is a vector used to find the initial rotor angle in a salient pole generator. We use this q-axis parallel vector to extract the value. We find $E_Q$ through the drop from the voltage source using the equivalent reactance $x_q$,\n",
    "- $E_Q = V_s + I \\cdot j x_q$\n",
    "\n",
    "or the drop from the generator using the reactance $X_q$ and the terminal voltage\n",
    "- $E_Q = V_g + I \\cdot j X_q$.\n",
    "Using the voltage drop all the way from the network is only valid if the current is the same throughout the system i.e. there is no local load.\n",
    "\n",
    "This gives us $\\delta$ as the $E_Q$ vector will be aligned with the q-axis. We simply retrieve the angle of the phasor, and get the power angle as \n",
    "- $\\delta = \\text{Arg}(E_Q) = \\tan^{-1}\\left(\\frac{\\text{imag}(E_Q)}{\\text{real}(E_Q)}\\right)$.\n",
    "\n",
    "For a salient pole generator we can assume that the transient power angle is the same as the steady state, i.e.\n",
    "- $\\delta = \\delta'$\n"
   ]
  },
  {
   "cell_type": "code",
   "execution_count": 9,
   "metadata": {},
   "outputs": [
    {
     "data": {
      "text/latex": [
       "$\\displaystyle \\delta = 33.69^\\circ$"
      ],
      "text/plain": [
       "<IPython.core.display.Math object>"
      ]
     },
     "metadata": {},
     "output_type": "display_data"
    }
   ],
   "source": [
    "# and the internal voltage of the generator is then found by finding the angle through EQ for the q-axis (machowski Equation 3.64/3.66 (2nd/3rd edition))\n",
    "EQ = Vs + I*1j*(xq) # pu\n",
    "# angle\n",
    "delta = np.angle(EQ) # rad\n",
    "\n",
    "\n",
    "display(Math(r'\\delta = {0:.2f}^\\circ'.format(delta*180/np.pi)))"
   ]
  },
  {
   "cell_type": "markdown",
   "metadata": {},
   "source": [
    "### dq-Current - $I_d$ and $I_q$\n",
    "We now want to refer the current to the dq-frame of the induced emf. We start by finding the angle between the q-axis and the current, $\\beta$. We find this simply by considering the power angle and angle of current as\n",
    "- $\\beta = \\delta + \\phi$\n",
    "\n",
    "We can then find the length of the $I_d$ and $I_q$ phasors by decomposing it using the angle as\n",
    "- $|I_d| = |I|sin(\\beta)$\n",
    "- $|I_q| = |I|cos(\\beta)$\n",
    "\n",
    "We already now their \"angle\" as they are referred to the q-axis which has the angle $\\delta$, and the \"negative\" d-axis which has the angle $\\delta - 90$ as it is normal on the q axis. \n",
    "- $I_d = |I|sin(\\beta) \\angle \\delta - 90 $\n",
    "- $I_q = |I|cos(\\beta) \\angle \\delta$\n",
    "\n"
   ]
  },
  {
   "cell_type": "code",
   "execution_count": 10,
   "metadata": {},
   "outputs": [
    {
     "data": {
      "text/latex": [
       "$\\displaystyle I_d = 0.6102 \\angle -56.31^\\circ$"
      ],
      "text/plain": [
       "<IPython.core.display.Math object>"
      ]
     },
     "metadata": {},
     "output_type": "display_data"
    },
    {
     "data": {
      "text/latex": [
       "$\\displaystyle I_q = 0.5547 \\angle 33.69^\\circ$"
      ],
      "text/plain": [
       "<IPython.core.display.Math object>"
      ]
     },
     "metadata": {},
     "output_type": "display_data"
    }
   ],
   "source": [
    "beta = delta + phi # rad\n",
    "\n",
    "Id_m = np.abs(I)*np.sin(beta) \n",
    "Iq_m = np.abs(I)*np.cos(beta)\n",
    "\n",
    "Id = Id_m * np.exp(1j*(delta - np.pi/2))\n",
    "Iq = Iq_m * np.exp(1j*(delta))\n",
    "\n",
    "display(Math(r'I_d = {0:.4f} \\angle {1:.2f}^\\circ'.format(abs(Id), np.angle(Id)*180/np.pi)))\n",
    "display(Math(r'I_q = {0:.4f} \\angle {1:.2f}^\\circ'.format(abs(Iq), np.angle(Iq)*180/np.pi)))"
   ]
  },
  {
   "cell_type": "markdown",
   "metadata": {},
   "source": [
    "### Emf - $E_q$ and $E_q'$  \n",
    "We now find the induced emf and transient emf by exploting the phasor geometry. They are given by \n",
    "- $E_q = V_g + I_d \\cdot j X_d + I_q \\cdot  j X_q $\n",
    "- $E_q' = V_g + I_d \\cdot j X_d' + I_q \\cdot  j X_q $ @haralddj STEMMER DETTE? VURDERER Å DROPPE Eq transient i eksempelet her\n",
    "\n",
    "A good way to know wether or not the value is correct is to check if the angle og $E_q$ is $\\delta$."
   ]
  },
  {
   "cell_type": "code",
   "execution_count": 11,
   "metadata": {},
   "outputs": [
    {
     "data": {
      "text/latex": [
       "$\\displaystyle E_q = 1.5643 \\angle 33.69^\\circ$"
      ],
      "text/plain": [
       "<IPython.core.display.Math object>"
      ]
     },
     "metadata": {},
     "output_type": "display_data"
    },
    {
     "data": {
      "text/latex": [
       "$\\displaystyle E_qt = 1.1371 \\angle 33.69^\\circ$"
      ],
      "text/plain": [
       "<IPython.core.display.Math object>"
      ]
     },
     "metadata": {},
     "output_type": "display_data"
    }
   ],
   "source": [
    "Eq = Vg + Id*1j*(Xd) + Iq*1j*Xq # pu\n",
    "Eq_t = Vs + Id*1j*(xd_t) + Iq*1j*xq # pu\n",
    "\n",
    "\n",
    "display(Math(r'E_q = {0:.4f} \\angle {1:.2f}^\\circ'.format(abs(Eq), np.angle(Eq)*180/np.pi)))\n",
    "display(Math(r'E_qt = {0:.4f} \\angle {1:.2f}^\\circ'.format(abs(Eq_t), np.angle(Eq_t)*180/np.pi)))"
   ]
  },
  {
   "cell_type": "markdown",
   "metadata": {},
   "source": [
    "## Drawing the diagram \n",
    "To draw the phasor diagram, we will use the `plot_phasor_diagram` function with the calculated phasors.\n",
    "\n",
    "Try to change the values of the system, and see how the diagram changes. What parameters effects what phasors?"
   ]
  },
  {
   "cell_type": "code",
   "execution_count": 12,
   "metadata": {},
   "outputs": [
    {
     "data": {
      "image/png": "[encoded data removed]",
      "text/plain": [
       "<Figure size 640x480 with 1 Axes>"
      ]
     },
     "metadata": {},
     "output_type": "display_data"
    }
   ],
   "source": [
    "\n",
    "phasors = {\n",
    "    'Vs': Vs,\n",
    "    'Vt': Vt,\n",
    "    'Vg': Vg,\n",
    "    'Eq': Eq,\n",
    "    'Eq_t': Eq_t,\n",
    "    'I': I,\n",
    "    'Id': Id,\n",
    "    'Iq': Iq\n",
    "}\n",
    "\n",
    "xlim = (-max(np.real(value) for value in phasors.values())*0.2, max(np.real(value) for value in phasors.values())*1.3)\n",
    "ylim = (min(np.imag(value) for value in phasors.values())*1.2,max(np.imag(value) for value in phasors.values())*1.2)\n",
    "\n",
    "plot_phasor_diagram(phasors, xlim=xlim, ylim=ylim)"
   ]
  },
  {
   "cell_type": "markdown",
   "metadata": {},
   "source": [
    "## Interactive plot\n",
    "\n",
    "Below you can tweak values using the sliders to see how it impacts the phasor diagram"
   ]
  },
  {
   "cell_type": "code",
   "execution_count": 13,
   "metadata": {},
   "outputs": [
    {
     "data": {
      "application/vnd.jupyter.widget-view+json": {
       "model_id": "5b78009d242a43c7977b57be1488967b",
       "version_major": 2,
       "version_minor": 0
      },
      "text/plain": [
       "interactive(children=(FloatSlider(value=0.8, description='P', max=1.5, step=0.05), FloatSlider(value=0.2, desc…"
      ]
     },
     "metadata": {},
     "output_type": "display_data"
    },
    {
     "data": {
      "text/plain": [
       "<function notebook_utils.update_phasor_diagram(P, Q, Vs, Xd, Xd_t, Xq, Xt, Xl)>"
      ]
     },
     "execution_count": 13,
     "metadata": {},
     "output_type": "execute_result"
    }
   ],
   "source": [
    "import ipywidgets as widgets\n",
    "from ipywidgets import interact\n",
    "\n",
    "\n",
    "# Create sliders for the variables\n",
    "Vs_slider = widgets.FloatSlider(value=1.0, min=0, max=2, step=0.1, description='Vs')\n",
    "P_slider = widgets.FloatSlider(value=0.8, min=0, max=1.5, step=0.05, description='P')\n",
    "Q_slider = widgets.FloatSlider(value=0.2, min=-1, max=1, step=0.05, description='Q')\n",
    "Xd_slider = widgets.FloatSlider(value=1.0, min=0, max=2, step=0.1, description='Xd')\n",
    "Xd_t_slider = widgets.FloatSlider(value=0.3, min=0, max=2, step=0.1, description='Xd_t')\n",
    "Xq_slider = widgets.FloatSlider(value=0.8, min=0, max=2, step=0.1, description='Xq')\n",
    "Xt_slider = widgets.FloatSlider(value=0.1, min=0, max=2, step=0.1, description='Xt')\n",
    "Xl_slider = widgets.FloatSlider(value=0.1, min=0, max=2, step=0.1, description='Xl')\n",
    "\n",
    "# Use interact to create the interactive plot\n",
    "interact(update_phasor_diagram, P=P_slider, Q=Q_slider, Vs = Vs_slider, Xd=Xd_slider, Xd_t=Xd_t_slider, Xq=Xq_slider, Xt=Xt_slider, Xl=Xl_slider)"
   ]
  }
 ],
 "metadata": {
  "kernelspec": {
   "display_name": "Python 3",
   "language": "python",
   "name": "python3"
  },
  "language_info": {
   "codemirror_mode": {
    "name": "ipython",
    "version": 3
   },
   "file_extension": ".py",
   "mimetype": "text/x-python",
   "name": "python",
   "nbconvert_exporter": "python",
   "pygments_lexer": "ipython3",
   "version": "3.11.9"
  }
 },
 "nbformat": 4,
 "nbformat_minor": 2
}
