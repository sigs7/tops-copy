{
 "cells": [
  {
   "cell_type": "markdown",
   "metadata": {},
   "source": [
    "# NOTEBOOK 1 - Coordinate systems\n",
    "\n",
    "#### A quick introduction to the coordinate systems dq, alpha beta and abc\n",
    "\n",
    "This is the first notebook in a series providing examples and code to test concepts. Still a work in progress, if there is anything missing or you have some general feedback please contact Sjur Føyen at foyen.sjur@ntnu.no \n",
    "\n",
    "Outline of notebook:\n",
    "- Example 1.1 shows a pratical application of the alpha beta and dq transforms\n",
    "\n",
    "\n",
    "Code implemented by; Varg Førland. Date; 23.01.2025\n",
    "\n",
    "Last update; 23.01.2025\n",
    "\n",
    "GitHub Copilot used for assistance in coding."
   ]
  },
  {
   "cell_type": "code",
   "execution_count": 1,
   "metadata": {},
   "outputs": [],
   "source": [
    "# If you get a package error, uncomment and run the following lines:\n",
    "# %pip install IPython.display\n",
    "# %pip install numpy\n",
    "# %pip install matplotlib\n",
    "# %pip install ipywidgets\n",
    "\n",
    "# IMPORTS. RUN FIRST!\n",
    "import numpy as np\n",
    "import matplotlib.pyplot as plt\n",
    "from ipywidgets import interact, IntSlider, FloatSlider\n",
    "from notebook_utils import plot_Coordinate_Display\n",
    "#more"
   ]
  },
  {
   "cell_type": "markdown",
   "metadata": {},
   "source": [
    "## Example 1.1 - alpha beta and dq-transformation\n",
    "\n",
    "\n",
    "#### The abc and $\\alpha \\beta$ coordinate frames\n",
    "abc coordinates is the three phase values which can be measured. If these are balanced, i.e. the sum of the three is zero, then the abc coordinates can be transformed to alpha-beta coordinates. The alpha-beta representation is a vector in a 2D plane. This vector has a magnitude and an angle. \n",
    "Bear in mind this does not change the value of the voltage or current, only describes it in a different frame of reference, which is more easy to work with. This tranformation is called the Clarke Transform, and can be described mathematically as\n",
    "\n",
    "$$\n",
    "\\begin{bmatrix}\n",
    "I_{\\alpha} \\\\\n",
    "I_{\\beta}\n",
    "\\end{bmatrix}\n",
    "=\n",
    "\\frac{2}{3}\n",
    "\\begin{bmatrix}\n",
    "1 & -\\frac{1}{2} & -\\frac{1}{2} \\\\\n",
    "0 & \\frac{\\sqrt{3}}{2} & -\\frac{\\sqrt{3}}{2}\n",
    "\\end{bmatrix}\n",
    "\\begin{bmatrix}\n",
    "I_a \\\\\n",
    "I_b \\\\\n",
    "I_c\n",
    "\\end{bmatrix}\n",
    "$$\n"
   ]
  },
  {
   "cell_type": "code",
   "execution_count": 2,
   "metadata": {},
   "outputs": [],
   "source": [
    "# Function to change from abc to alpha-beta coordinates\n",
    "def abc_to_alphabeta(abc: np.ndarray) -> np.ndarray:\n",
    "    \"\"\" Change from abc to alpha-beta coordinates. This is done by the rotational matrix shown below. \n",
    "     The variable \"abc\" is a numpy array with the three phase values, i.e. a vector [Ia, Ib, Ic] or [Va, Vb, Vc]. \"\"\"\n",
    "    T_alpha_beta = (2/3) * np.array([\n",
    "        [1, -0.5, -0.5],\n",
    "        [0, np.sqrt(3)/2, -np.sqrt(3)/2]\n",
    "    ])\n",
    "    return T_alpha_beta @ abc # Matrix multiplication for the Clarke transformation matrix"
   ]
  },
  {
   "cell_type": "markdown",
   "metadata": {},
   "source": [
    "\n",
    "#### The dq coordinate frame\n",
    "\n",
    "Now that we have a simpler way of representing three phase values, we consider another transformation, the dq transformation. \n",
    "\n",
    "As seen in the we can see in the example below, alpha beta vectors rotate with time, making them complicated to use in calculations.\n",
    "We now want to represent the values as constant values. If we introduce a new coordinate system, \n",
    "where the axes rotates together with the vector, it can be seen as a constant value in that coordinate system.\n",
    "This is the reasoning behind the dq coordinates.\n",
    "\n",
    "The tranformation is called the Park transform, and is described as:\n",
    "\n",
    "$$\n",
    "\\begin{bmatrix}\n",
    "I_d \\\\\n",
    "I_q\n",
    "\\end{bmatrix}\n",
    "=\n",
    "\\begin{bmatrix}\n",
    "\\cos(\\theta) & \\sin(\\theta) \\\\\n",
    "-\\sin(\\theta) & \\cos(\\theta)\n",
    "\\end{bmatrix}\n",
    "\\begin{bmatrix}\n",
    "I_{\\alpha} \\\\\n",
    "I_{\\beta}\n",
    "\\end{bmatrix}\n",
    "$$\n"
   ]
  },
  {
   "cell_type": "code",
   "execution_count": 3,
   "metadata": {},
   "outputs": [],
   "source": [
    "def alphabeta_to_dq(alpha_beta : np.ndarray, theta : float) -> np.ndarray:\n",
    "    \"\"\" Change from alpha-beta to dq coordinates. This is done by the rotational matrix shown below. \n",
    "     The variable \"alpha_beta\" is a numpy array with the two phase values, i.e. a vector [I_alpha, I_beta] or [V_alpha, V_beta]. \n",
    "     The variable \"theta\" is the angle of rotation. \"\"\"\n",
    "    T_dq = np.array([\n",
    "        [np.cos(theta), np.sin(theta)],\n",
    "        [-np.sin(theta), np.cos(theta)]\n",
    "    ])\n",
    "    return T_dq @ alpha_beta # Matrix multiplication for the Park transformation matrix"
   ]
  },
  {
   "cell_type": "markdown",
   "metadata": {},
   "source": [
    "### PLOT EXAMPLE\n",
    "Consider a measured line current. From this we get three values, the a, b and c magnitudes of the current. With this we have the abc representation of the current as Iabc = [Ia, Ib, Ic]. This is mathematically hard to work with, so we want to represent the three phase values, as ONE vector in the alpha-beta coordinates. \n",
    "\n",
    "Run the code, and experiment with change the time constant. Consider the following questions:\n",
    "- How does the alpha beta representation compare to the abc representation\n",
    "- How does the vectors change with time? Does the dq representation change?\n",
    "- What are the advantages of the different representations?"
   ]
  },
  {
   "cell_type": "code",
   "execution_count": 4,
   "metadata": {},
   "outputs": [
    {
     "data": {
      "application/vnd.jupyter.widget-view+json": {
       "model_id": "5c03981ec1ed4718ab8f3209c7709591",
       "version_major": 2,
       "version_minor": 0
      },
      "text/plain": [
       "interactive(children=(FloatSlider(value=0.0, description='t', max=0.02, step=0.0005), Output()), _dom_classes=…"
      ]
     },
     "metadata": {},
     "output_type": "display_data"
    },
    {
     "data": {
      "text/plain": [
       "<function __main__.<lambda>(t)>"
      ]
     },
     "execution_count": 4,
     "metadata": {},
     "output_type": "execute_result"
    }
   ],
   "source": [
    "# PLOT THE CURRENTS; RUN AFTER THE CODE ABOVE\n",
    "\n",
    "#Chose voltage magnitude, current magintude and phase difference:\n",
    "Vmag = 1    #pu\n",
    "Imag = 0.8  #pu\n",
    "Iphase_diff = -20 * np.pi / 180 # radians\n",
    "\n",
    "# Create the slider\n",
    "time_slider = FloatSlider(min=0, max=0.02, step=0.0005, value=0)\n",
    "\n",
    "# Use interact to update the plot with the slider\n",
    "interact(lambda t: plot_Coordinate_Display(t, Vmag, Imag, Iphase_diff), t=time_slider)"
   ]
  }
 ],
 "metadata": {
  "kernelspec": {
   "display_name": "Python 3",
   "language": "python",
   "name": "python3"
  },
  "language_info": {
   "codemirror_mode": {
    "name": "ipython",
    "version": 3
   },
   "file_extension": ".py",
   "mimetype": "text/x-python",
   "name": "python",
   "nbconvert_exporter": "python",
   "pygments_lexer": "ipython3",
   "version": "3.11.9"
  }
 },
 "nbformat": 4,
 "nbformat_minor": 2
}
